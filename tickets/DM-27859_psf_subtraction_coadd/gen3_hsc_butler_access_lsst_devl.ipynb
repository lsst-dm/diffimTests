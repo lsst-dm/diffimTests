{
 "cells": [
  {
   "cell_type": "code",
   "execution_count": 17,
   "metadata": {},
   "outputs": [],
   "source": [
    "# This does not work in nb aspect; set env before starting jupyter notebook\n",
    "#%env LSST_DB_AUTH='/home/gkovacs/.lsst/db-auth.yaml'"
   ]
  },
  {
   "cell_type": "code",
   "execution_count": 2,
   "metadata": {},
   "outputs": [],
   "source": [
    "from lsst.daf.butler import Butler"
   ]
  },
  {
   "cell_type": "code",
   "execution_count": 6,
   "metadata": {},
   "outputs": [],
   "source": [
    "butler = Butler(\"../hsc_gen3repo/rc2w42_ssw46\", collections='RC2/w_2020_42')"
   ]
  },
  {
   "cell_type": "code",
   "execution_count": 9,
   "metadata": {},
   "outputs": [],
   "source": [
    "coadd = butler.get(\"deepCoadd\", band='g', skymap='hsc_rings_v1', tract=9813, patch=78)"
   ]
  },
  {
   "cell_type": "code",
   "execution_count": 20,
   "metadata": {},
   "outputs": [],
   "source": [
    "# nImage image of the coadd\n",
    "coadd_nImg = butler.get(\"deepCoadd_nImage\", band='g', skymap='hsc_rings_v1', tract=9813, patch=78)"
   ]
  },
  {
   "cell_type": "code",
   "execution_count": 15,
   "metadata": {},
   "outputs": [],
   "source": [
    "# What is the difference between meas, measMatch, measMatchFull ? _det is \"just\"\n",
    "# detections without measurement\n",
    "coaddSrc = butler.get(\"deepCoadd_measMatchFull\", band='g', skymap='hsc_rings_v1', tract=9813, patch=78)"
   ]
  },
  {
   "cell_type": "code",
   "execution_count": null,
   "metadata": {},
   "outputs": [],
   "source": []
  }
 ],
 "metadata": {
  "kernelspec": {
   "display_name": "Python 3",
   "language": "python",
   "name": "python3"
  },
  "language_info": {
   "codemirror_mode": {
    "name": "ipython",
    "version": 3
   },
   "file_extension": ".py",
   "mimetype": "text/x-python",
   "name": "python",
   "nbconvert_exporter": "python",
   "pygments_lexer": "ipython3",
   "version": "3.7.8"
  }
 },
 "nbformat": 4,
 "nbformat_minor": 4
}
