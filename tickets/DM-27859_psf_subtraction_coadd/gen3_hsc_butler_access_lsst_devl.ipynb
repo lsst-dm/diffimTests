{
 "cells": [
  {
   "cell_type": "code",
   "execution_count": 1,
   "metadata": {},
   "outputs": [],
   "source": [
    "# This notebook needs a set up access to the postgresDB on lsst-devl.\n",
    "# This does not work in nb aspect; set env before starting jupyter notebook\n",
    "# %env LSST_DB_AUTH='/home/gkovacs/.lsst/db-auth.yaml'"
   ]
  },
  {
   "cell_type": "code",
   "execution_count": 9,
   "metadata": {},
   "outputs": [
    {
     "data": {
      "text/plain": [
       "'/project/gkovacs/.lsst/db-auth.yaml'"
      ]
     },
     "execution_count": 9,
     "metadata": {},
     "output_type": "execute_result"
    }
   ],
   "source": [
    "# Check env variable\n",
    "%env LSST_DB_AUTH"
   ]
  },
  {
   "cell_type": "code",
   "execution_count": 3,
   "metadata": {},
   "outputs": [],
   "source": [
    "from lsst.daf.butler import Butler"
   ]
  },
  {
   "cell_type": "code",
   "execution_count": 12,
   "metadata": {},
   "outputs": [],
   "source": [
    "butler = Butler(\"/datasets/hsc/gen3repo/rc2w42_ssw46\", collections='RC2/w_2020_42', writeable=False)"
   ]
  },
  {
   "cell_type": "code",
   "execution_count": 16,
   "metadata": {},
   "outputs": [],
   "source": [
    "skymap = butler.get(\"deepCoadd_skyMap\", skymap='hsc_rings_v1')"
   ]
  },
  {
   "cell_type": "code",
   "execution_count": 6,
   "metadata": {},
   "outputs": [],
   "source": [
    "coadd = butler.get(\"deepCoadd\", band='g', skymap='hsc_rings_v1', tract=9813, patch=78)"
   ]
  },
  {
   "cell_type": "code",
   "execution_count": 7,
   "metadata": {},
   "outputs": [],
   "source": [
    "# nImage image of the coadd\n",
    "coadd_nImg = butler.get(\"deepCoadd_nImage\", band='g', skymap='hsc_rings_v1', tract=9813, patch=78)"
   ]
  },
  {
   "cell_type": "code",
   "execution_count": 8,
   "metadata": {},
   "outputs": [],
   "source": [
    "# What is the difference between meas, measMatch, measMatchFull ? _det is \"just\"\n",
    "# detections without measurement\n",
    "coaddSrc = butler.get(\"deepCoadd_measMatchFull\", band='g', skymap='hsc_rings_v1', tract=9813, patch=78)"
   ]
  }
 ],
 "metadata": {
  "kernelspec": {
   "display_name": "Python 3",
   "language": "python",
   "name": "python3"
  },
  "language_info": {
   "codemirror_mode": {
    "name": "ipython",
    "version": 3
   },
   "file_extension": ".py",
   "mimetype": "text/x-python",
   "name": "python",
   "nbconvert_exporter": "python",
   "pygments_lexer": "ipython3",
   "version": "3.7.8"
  }
 },
 "nbformat": 4,
 "nbformat_minor": 4
}
