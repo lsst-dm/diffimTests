{
 "cells": [
  {
   "cell_type": "code",
   "execution_count": 1,
   "id": "subject-monster",
   "metadata": {},
   "outputs": [],
   "source": [
    "from lsst.daf.butler import Butler"
   ]
  },
  {
   "cell_type": "code",
   "execution_count": 2,
   "id": "handy-immunology",
   "metadata": {},
   "outputs": [],
   "source": [
    "butler = Butler(\"/project/gkovacs/hsc_gen3repo/rc2w50_ssw02\", collections=\"u/gkovacs/DM-28442\", writeable=False)"
   ]
  },
  {
   "cell_type": "code",
   "execution_count": 67,
   "id": "interracial-snake",
   "metadata": {},
   "outputs": [],
   "source": [
    "# If collections= is not provided, the first one will be returned\n",
    "# beware: kwargs spelling is not checked\n",
    "m = butler.get(\"difference_metadata\", dataId={'visit': 1166, 'detector': 10}, \n",
    "               collections=\"u/gkovacs/DM-28442/20210211T061222Z\")"
   ]
  },
  {
   "cell_type": "code",
   "execution_count": 69,
   "id": "endless-brunswick",
   "metadata": {},
   "outputs": [],
   "source": [
    "names = m.names()"
   ]
  },
  {
   "cell_type": "code",
   "execution_count": 70,
   "id": "sunset-burst",
   "metadata": {},
   "outputs": [
    {
     "data": {
      "text/plain": [
       "['imageDifference:measurement',\n",
       " 'imageDifference:decorrelate',\n",
       " 'imageDifference:subtract',\n",
       " 'imageDifference:detection',\n",
       " 'imageDifference:forcedMeasurement',\n",
       " 'imageDifference:subtract:background',\n",
       " 'imageDifference',\n",
       " 'imageDifference:detection:tempLocalBackground',\n",
       " 'imageDifference:subtract:selectDetection',\n",
       " 'imageDifference:getTemplate',\n",
       " 'imageDifference:subtract:selectDetection:tempLocalBackground',\n",
       " 'imageDifference:subtract:selectMeasurement']"
      ]
     },
     "execution_count": 70,
     "metadata": {},
     "output_type": "execute_result"
    }
   ],
   "source": [
    "names"
   ]
  },
  {
   "cell_type": "code",
   "execution_count": 71,
   "id": "korean-jesus",
   "metadata": {},
   "outputs": [
    {
     "name": "stdout",
     "output_type": "stream",
     "text": [
      "imageDifference:measurement\n",
      "['runEndInvoluntaryContextSwitches', 'runEndMajorPageFaults', 'runEndMaxResidentSetSize', 'runEndMinorPageFaults', 'runEndUserTime', 'runEndUtc', 'runStartUserTime', 'runEndCpuTime', 'runStartMaxResidentSetSize', 'runStartMajorPageFaults', 'runEndSystemTime', 'runStartSystemTime', 'runStartCpuTime', 'runEndVoluntaryContextSwitches', 'runStartBlockInputs', 'runStartUtc', 'runStartMinorPageFaults', 'runStartInvoluntaryContextSwitches', 'runEndBlockOutputs', 'runStartBlockOutputs', 'runEndBlockInputs', 'runStartVoluntaryContextSwitches']\n",
      "imageDifference:decorrelate\n",
      "[]\n",
      "imageDifference:subtract\n",
      "['subtractExposuresEndVoluntaryContextSwitches', 'subtractExposuresEndMinorPageFaults', 'subtractExposuresEndBlockOutputs', 'subtractExposuresEndMaxResidentSetSize', 'subtractExposuresEndUserTime', 'matchExposuresEndInvoluntaryContextSwitches', 'matchExposuresEndVoluntaryContextSwitches', 'matchExposuresEndBlockOutputs', 'matchExposuresEndMajorPageFaults', 'subtractExposuresEndCpuTime', 'matchExposuresEndMaxResidentSetSize', 'matchExposuresEndSystemTime', 'matchExposuresEndUserTime', 'matchExposuresEndCpuTime', 'matchExposuresEndUtc', 'matchMaskedImagesEndBlockOutputs', 'matchMaskedImagesEndUserTime', 'matchMaskedImagesEndBlockInputs', 'matchMaskedImagesEndCpuTime', 'matchMaskedImagesEndMaxResidentSetSize', 'matchMaskedImagesEndUtc', '_solveEndInvoluntaryContextSwitches', '_solveEndMajorPageFaults', '_solveEndMinorPageFaults', '_solveEndUserTime', 'subtractExposuresEndSystemTime', '_solveEndCpuTime', 'matchMaskedImagesEndVoluntaryContextSwitches', 'matchMaskedImagesEndSystemTime', '_solveEndVoluntaryContextSwitches', '_solveEndUtc', 'subtractExposuresEndInvoluntaryContextSwitches', 'spatialKernelSum', 'spatialConditionNum', '_solveStartInvoluntaryContextSwitches', 'matchMaskedImagesStartUtc', 'subtractExposuresStartUtc', 'subtractExposuresStartCpuTime', '_solveEndSystemTime', 'matchExposuresStartVoluntaryContextSwitches', 'matchMaskedImagesStartUserTime', '_solveStartUtc', 'matchExposuresEndBlockInputs', 'matchExposuresStartInvoluntaryContextSwitches', 'matchExposuresStartMinorPageFaults', 'matchMaskedImagesStartBlockInputs', 'matchExposuresStartUtc', 'subtractExposuresEndBlockInputs', 'matchMaskedImagesEndMinorPageFaults', 'matchExposuresStartCpuTime', 'matchMaskedImagesEndMajorPageFaults', 'matchExposuresStartBlockOutputs', 'matchExposuresStartSystemTime', 'subtractExposuresStartSystemTime', 'matchExposuresStartBlockInputs', 'subtractExposuresStartMaxResidentSetSize', 'subtractExposuresStartBlockOutputs', 'subtractExposuresEndUtc', 'matchExposuresEndMinorPageFaults', '_solveStartMaxResidentSetSize', '_solveEndBlockInputs', 'matchExposuresStartMajorPageFaults', '_solveStartVoluntaryContextSwitches', 'subtractExposuresStartBlockInputs', '_solveEndMaxResidentSetSize', 'matchMaskedImagesStartSystemTime', 'subtractExposuresStartVoluntaryContextSwitches', 'subtractExposuresStartMajorPageFaults', 'matchMaskedImagesStartInvoluntaryContextSwitches', 'matchExposuresStartMaxResidentSetSize', 'ALKernelSize', 'matchMaskedImagesEndInvoluntaryContextSwitches', 'subtractExposuresStartInvoluntaryContextSwitches', 'matchMaskedImagesStartCpuTime', 'matchMaskedImagesStartMaxResidentSetSize', '_solveStartCpuTime', 'matchMaskedImagesStartMinorPageFaults', 'subtractExposuresStartUserTime', 'matchMaskedImagesStartMajorPageFaults', 'ALBasisNGauss', 'matchMaskedImagesStartBlockOutputs', '_solveEndBlockOutputs', 'matchMaskedImagesStartVoluntaryContextSwitches', 'ALBasisDegGauss', 'subtractExposuresEndMajorPageFaults', 'subtractExposuresStartMinorPageFaults', '_solveStartUserTime', '_solveStartMajorPageFaults', 'ALBasisMode', 'matchExposuresStartUserTime', '_solveStartMinorPageFaults', 'ALBasisSigGauss', '_solveStartSystemTime', '_solveStartBlockInputs', '_solveStartBlockOutputs']\n",
      "imageDifference:detection\n",
      "['runEndInvoluntaryContextSwitches', 'detectFootprintsStartBlockInputs', 'runEndBlockOutputs', 'detectFootprintsStartMajorPageFaults', 'detectFootprintsStartMaxResidentSetSize', 'runEndMinorPageFaults', 'detectFootprintsStartUserTime', 'runStartVoluntaryContextSwitches', 'detectFootprintsEndUserTime', 'runEndBlockInputs', 'detectFootprintsStartCpuTime', 'detectFootprintsStartUtc', 'runStartUserTime', 'runStartInvoluntaryContextSwitches', 'runEndUserTime', 'runStartMaxResidentSetSize', 'runEndVoluntaryContextSwitches', 'detectFootprintsStartInvoluntaryContextSwitches', 'runStartSystemTime', 'runStartCpuTime', 'sigma', 'runStartBlockInputs', 'doSmooth', 'runStartMinorPageFaults', 'detectFootprintsStartMinorPageFaults', 'detectFootprintsEndBlockOutputs', 'runStartUtc', 'runEndCpuTime', 'detectFootprintsStartSystemTime', 'detectFootprintsStartBlockOutputs', 'runStartBlockOutputs', 'smoothingKernelWidth', 'nGrow', 'detectFootprintsEndUtc', 'detectFootprintsEndInvoluntaryContextSwitches', 'detectFootprintsEndCpuTime', 'detectFootprintsEndVoluntaryContextSwitches', 'detectFootprintsEndSystemTime', 'detectFootprintsEndMaxResidentSetSize', 'detectFootprintsEndMinorPageFaults', 'runStartMajorPageFaults', 'detectFootprintsEndMajorPageFaults', 'detectFootprintsEndBlockInputs', 'runEndUtc', 'detectFootprintsStartVoluntaryContextSwitches', 'runEndSystemTime', 'runEndMaxResidentSetSize', 'runEndMajorPageFaults']\n",
      "imageDifference:forcedMeasurement\n",
      "[]\n",
      "imageDifference:subtract:background\n",
      "[]\n",
      "imageDifference\n",
      "['runEndInvoluntaryContextSwitches', 'runEndMajorPageFaults', 'runEndMaxResidentSetSize', 'runEndMinorPageFaults', 'runEndUserTime', 'runEndUtc', 'runStartUserTime', 'runEndCpuTime', 'runStartMaxResidentSetSize', 'runStartMajorPageFaults', 'runEndSystemTime', 'runStartSystemTime', 'runStartCpuTime', 'runEndVoluntaryContextSwitches', 'runStartBlockInputs', 'runStartUtc', 'runStartMinorPageFaults', 'runStartInvoluntaryContextSwitches', 'runEndBlockOutputs', 'runStartBlockOutputs', 'runEndBlockInputs', 'runStartVoluntaryContextSwitches']\n",
      "imageDifference:detection:tempLocalBackground\n",
      "[]\n",
      "imageDifference:subtract:selectDetection\n",
      "['runEndInvoluntaryContextSwitches', 'detectFootprintsStartBlockInputs', 'runEndBlockOutputs', 'detectFootprintsStartMajorPageFaults', 'detectFootprintsStartMaxResidentSetSize', 'runEndMinorPageFaults', 'detectFootprintsStartUserTime', 'runStartVoluntaryContextSwitches', 'detectFootprintsEndUserTime', 'runEndBlockInputs', 'detectFootprintsStartCpuTime', 'detectFootprintsStartUtc', 'runStartUserTime', 'runStartInvoluntaryContextSwitches', 'runEndUserTime', 'runStartMaxResidentSetSize', 'runEndVoluntaryContextSwitches', 'detectFootprintsStartInvoluntaryContextSwitches', 'runStartSystemTime', 'runStartCpuTime', 'sigma', 'runStartBlockInputs', 'doSmooth', 'runStartMinorPageFaults', 'detectFootprintsStartMinorPageFaults', 'detectFootprintsEndBlockOutputs', 'runStartUtc', 'runEndCpuTime', 'detectFootprintsStartSystemTime', 'detectFootprintsStartBlockOutputs', 'runStartBlockOutputs', 'smoothingKernelWidth', 'nGrow', 'detectFootprintsEndUtc', 'detectFootprintsEndInvoluntaryContextSwitches', 'detectFootprintsEndCpuTime', 'detectFootprintsEndVoluntaryContextSwitches', 'detectFootprintsEndSystemTime', 'detectFootprintsEndMaxResidentSetSize', 'detectFootprintsEndMinorPageFaults', 'runStartMajorPageFaults', 'detectFootprintsEndMajorPageFaults', 'detectFootprintsEndBlockInputs', 'runEndUtc', 'detectFootprintsStartVoluntaryContextSwitches', 'runEndSystemTime', 'runEndMaxResidentSetSize', 'runEndMajorPageFaults']\n",
      "imageDifference:getTemplate\n",
      "[]\n",
      "imageDifference:subtract:selectDetection:tempLocalBackground\n",
      "[]\n",
      "imageDifference:subtract:selectMeasurement\n",
      "['runEndInvoluntaryContextSwitches', 'runEndMajorPageFaults', 'runEndMaxResidentSetSize', 'runEndMinorPageFaults', 'runEndUserTime', 'runEndUtc', 'runStartUserTime', 'runEndCpuTime', 'runStartMaxResidentSetSize', 'runStartMajorPageFaults', 'runEndSystemTime', 'runStartSystemTime', 'runStartCpuTime', 'runEndVoluntaryContextSwitches', 'runStartBlockInputs', 'runStartUtc', 'runStartMinorPageFaults', 'runStartInvoluntaryContextSwitches', 'runEndBlockOutputs', 'runStartBlockOutputs', 'runEndBlockInputs', 'runStartVoluntaryContextSwitches']\n"
     ]
    }
   ],
   "source": [
    "for plistName in names:\n",
    "    pl = m.get(plistName)\n",
    "    print(plistName)\n",
    "    print(pl.names())"
   ]
  },
  {
   "cell_type": "code",
   "execution_count": 24,
   "id": "encouraging-mumbai",
   "metadata": {},
   "outputs": [],
   "source": [
    "pc = m.get(\"imageDifference:subtract\")"
   ]
  },
  {
   "cell_type": "code",
   "execution_count": 45,
   "id": "equal-priority",
   "metadata": {},
   "outputs": [
    {
     "data": {
      "text/plain": [
       "<lsst.daf.base.propertyContainer.propertyList.PropertyList at 0x7f466d32d630>"
      ]
     },
     "execution_count": 45,
     "metadata": {},
     "output_type": "execute_result"
    }
   ],
   "source": [
    "pc"
   ]
  },
  {
   "cell_type": "code",
   "execution_count": 27,
   "id": "changing-intersection",
   "metadata": {},
   "outputs": [
    {
     "data": {
      "text/plain": [
       "4.829646490116042"
      ]
     },
     "execution_count": 27,
     "metadata": {},
     "output_type": "execute_result"
    }
   ],
   "source": [
    "pc.get(\"ALBasisSigGauss\")"
   ]
  },
  {
   "cell_type": "code",
   "execution_count": 34,
   "id": "sought-logic",
   "metadata": {},
   "outputs": [],
   "source": [
    "pc = m.get(\"imageDifference:detection\")"
   ]
  },
  {
   "cell_type": "code",
   "execution_count": 35,
   "id": "academic-aviation",
   "metadata": {},
   "outputs": [
    {
     "data": {
      "text/plain": [
       "['runEndInvoluntaryContextSwitches',\n",
       " 'detectFootprintsStartBlockInputs',\n",
       " 'runEndBlockOutputs',\n",
       " 'detectFootprintsStartMajorPageFaults',\n",
       " 'detectFootprintsStartMaxResidentSetSize',\n",
       " 'runEndMinorPageFaults',\n",
       " 'detectFootprintsStartUserTime',\n",
       " 'runStartVoluntaryContextSwitches',\n",
       " 'detectFootprintsEndUserTime',\n",
       " 'runEndBlockInputs',\n",
       " 'detectFootprintsStartCpuTime',\n",
       " 'detectFootprintsStartUtc',\n",
       " 'runStartUserTime',\n",
       " 'runStartInvoluntaryContextSwitches',\n",
       " 'runEndUserTime',\n",
       " 'runStartMaxResidentSetSize',\n",
       " 'runEndVoluntaryContextSwitches',\n",
       " 'detectFootprintsStartInvoluntaryContextSwitches',\n",
       " 'runStartSystemTime',\n",
       " 'runStartCpuTime',\n",
       " 'sigma',\n",
       " 'runStartBlockInputs',\n",
       " 'doSmooth',\n",
       " 'runStartMinorPageFaults',\n",
       " 'detectFootprintsStartMinorPageFaults',\n",
       " 'detectFootprintsEndBlockOutputs',\n",
       " 'runStartUtc',\n",
       " 'runEndCpuTime',\n",
       " 'detectFootprintsStartSystemTime',\n",
       " 'detectFootprintsStartBlockOutputs',\n",
       " 'runStartBlockOutputs',\n",
       " 'smoothingKernelWidth',\n",
       " 'nGrow',\n",
       " 'detectFootprintsEndUtc',\n",
       " 'detectFootprintsEndInvoluntaryContextSwitches',\n",
       " 'detectFootprintsEndCpuTime',\n",
       " 'detectFootprintsEndVoluntaryContextSwitches',\n",
       " 'detectFootprintsEndSystemTime',\n",
       " 'detectFootprintsEndMaxResidentSetSize',\n",
       " 'detectFootprintsEndMinorPageFaults',\n",
       " 'runStartMajorPageFaults',\n",
       " 'detectFootprintsEndMajorPageFaults',\n",
       " 'detectFootprintsEndBlockInputs',\n",
       " 'runEndUtc',\n",
       " 'detectFootprintsStartVoluntaryContextSwitches',\n",
       " 'runEndSystemTime',\n",
       " 'runEndMaxResidentSetSize',\n",
       " 'runEndMajorPageFaults']"
      ]
     },
     "execution_count": 35,
     "metadata": {},
     "output_type": "execute_result"
    }
   ],
   "source": [
    "pc.names()"
   ]
  },
  {
   "cell_type": "code",
   "execution_count": null,
   "id": "growing-receiver",
   "metadata": {},
   "outputs": [],
   "source": []
  }
 ],
 "metadata": {
  "kernelspec": {
   "display_name": "Python 3",
   "language": "python",
   "name": "python3"
  },
  "language_info": {
   "codemirror_mode": {
    "name": "ipython",
    "version": 3
   },
   "file_extension": ".py",
   "mimetype": "text/x-python",
   "name": "python",
   "nbconvert_exporter": "python",
   "pygments_lexer": "ipython3",
   "version": "3.8.6"
  }
 },
 "nbformat": 4,
 "nbformat_minor": 5
}
