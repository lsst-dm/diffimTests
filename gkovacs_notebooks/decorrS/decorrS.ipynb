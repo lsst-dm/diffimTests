{
 "cells": [
  {
   "cell_type": "markdown",
   "id": "2b93c189",
   "metadata": {},
   "source": [
    "Decorrelation of the likelihood image in AL vs. the Zogy score image"
   ]
  },
  {
   "cell_type": "markdown",
   "id": "3ae17565",
   "metadata": {},
   "source": [
    "$$S = \\frac{\\bar{P_n}|P_r|^2 \\frac{N}{F_n} - \\bar{P_r}|P_n|^2 \\frac{R}{F_r}}\n",
    "{\\frac{\\sigma_r^2}{F_r^2}|P_n|^2 + \\frac{\\sigma_n^2}{F_n^2}|P_r|^2 }$$"
   ]
  },
  {
   "cell_type": "markdown",
   "id": "f882af11",
   "metadata": {},
   "source": [
    "$$S = \\frac{\\bar{P_n} \\frac{N}{F_n} - \\frac{|P_n|^2}{P_r} \\frac{R}{F_r}}\n",
    "{\\frac{\\sigma_n^2}{F_n^2} + \\frac{\\sigma_r^2}{F_r^2}\\frac{|P_n|^2}{|P_r|^2}}$$\n",
    "$$P_{mk} = \\frac{|P_n|^2}{P_r}$$"
   ]
  },
  {
   "cell_type": "markdown",
   "id": "2ff935e4",
   "metadata": {},
   "source": [
    "$$K = \\frac{1}\n",
    "{\\frac{\\sigma_n^2}{F_n^2} + \\frac{\\sigma_r^2}{F_r^2}\\frac{|P_{mk}|^2}{|P_n|^2}}$$\n"
   ]
  },
  {
   "cell_type": "markdown",
   "id": "cc98e209",
   "metadata": {},
   "source": [
    "* K can be normalized in a way that S preserves flux\n",
    "* S is a wider PSF, smoothed image, that is a detection statistic in each pixel and preserves flux within its blurred $P_s$ PSF."
   ]
  },
  {
   "cell_type": "code",
   "execution_count": null,
   "id": "05a465fa",
   "metadata": {},
   "outputs": [],
   "source": []
  }
 ],
 "metadata": {
  "kernelspec": {
   "display_name": "Python 3",
   "language": "python",
   "name": "python3"
  },
  "language_info": {
   "codemirror_mode": {
    "name": "ipython",
    "version": 3
   },
   "file_extension": ".py",
   "mimetype": "text/x-python",
   "name": "python",
   "nbconvert_exporter": "python",
   "pygments_lexer": "ipython3",
   "version": "3.8.8"
  }
 },
 "nbformat": 4,
 "nbformat_minor": 5
}
